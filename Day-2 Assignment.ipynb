{
 "cells": [
  {
   "cell_type": "markdown",
   "metadata": {},
   "source": [
    "# Question 1:"
   ]
  },
  {
   "cell_type": "markdown",
   "metadata": {},
   "source": [
    "Create an empty list. Accept 10 numbers from the user and append to it the list if it is an even number."
   ]
  },
  {
   "cell_type": "code",
   "execution_count": 3,
   "metadata": {},
   "outputs": [
    {
     "name": "stdout",
     "output_type": "stream",
     "text": [
      "Enter the value:12\n",
      "Enter the value:33\n",
      "Enter the value:21\n",
      "Enter the value:35\n",
      "Enter the value:76\n",
      "Enter the value:87\n",
      "Enter the value:565\n",
      "Enter the value:445\n",
      "Enter the value:432\n",
      "Enter the value:434\n",
      "List of all even numbers: [12, 76, 432, 434]\n"
     ]
    }
   ],
   "source": [
    "#creating an empty list\n",
    "list=[]\n",
    "#taking 10 number from user\n",
    "for i in range(10):\n",
    "    x=int(input(\"Enter the value:\"))\n",
    "    if x%2 == 0:\n",
    "        list.append(x)\n",
    "# printing the list of even numbers\n",
    "print(\"List of all even numbers:\",list)"
   ]
  },
  {
   "cell_type": "markdown",
   "metadata": {},
   "source": [
    "# Question 2:"
   ]
  },
  {
   "cell_type": "raw",
   "metadata": {},
   "source": [
    "Create a notebook on LIST COMPREHENSION. This exercise is to put you in a Self learning mode"
   ]
  },
  {
   "cell_type": "raw",
   "metadata": {},
   "source": [
    "List Comprehension is an elegant way to define and create lists based on exixting lists.\n",
    "When using list comprehensions, lists can be built by leveraging any iterable, including strings and tuples.\n",
    "List comprehensions can utilize conditional statements to modify existing lists or other sequential data types when creating new lists.\n",
    "Syntax of List Comprehension:\n",
    "       new_list= [expression for item in existing_list]"
   ]
  },
  {
   "cell_type": "raw",
   "metadata": {},
   "source": [
    "Example: Suppose we want to create an output list which contains only the odd numbers which are present in the input list. Let’s see how to do this using list comprehension."
   ]
  },
  {
   "cell_type": "code",
   "execution_count": 4,
   "metadata": {},
   "outputs": [
    {
     "name": "stdout",
     "output_type": "stream",
     "text": [
      "list: [21, 33, 42, 55, 77, 87, 98, 565]\n",
      "Output List using list comprehensions \n",
      "list of odd numbers: [21, 33, 55, 77, 87, 565]\n"
     ]
    }
   ],
   "source": [
    "#creating a list\n",
    "input_list=[21,33,42,55,77,87,98,565]\n",
    "print(\"list:\",input_list)\n",
    "#using list comprehension\n",
    "output_list=[item for item in input_list if item%2!=0]\n",
    "print(\"Output List using list comprehensions \\nlist of odd numbers:\",output_list)"
   ]
  },
  {
   "cell_type": "markdown",
   "metadata": {},
   "source": [
    "# Question 3:"
   ]
  },
  {
   "cell_type": "markdown",
   "metadata": {},
   "source": [
    "given a number n, you have to write a program that generates a dictionary d which contains (i, i*i), where i is from 1 to n (both included). Then you have to just print this dictionary d."
   ]
  },
  {
   "cell_type": "code",
   "execution_count": 2,
   "metadata": {},
   "outputs": [
    {
     "name": "stdout",
     "output_type": "stream",
     "text": [
      "4\n",
      "{1: 1, 2: 4, 3: 9, 4: 16}\n"
     ]
    }
   ],
   "source": [
    "# creating an empty dict\n",
    "d={}\n",
    "# taking value for n\n",
    "n=int(input())\n",
    "for i in range(1,n+1):\n",
    "    d[i]=i*i\n",
    "print(d)"
   ]
  },
  {
   "cell_type": "markdown",
   "metadata": {},
   "source": [
    "# Question 4:"
   ]
  },
  {
   "cell_type": "markdown",
   "metadata": {},
   "source": [
    "Write a program to compute the distance between the current position after a sequence of movement and original point."
   ]
  },
  {
   "cell_type": "code",
   "execution_count": 1,
   "metadata": {},
   "outputs": [
    {
     "name": "stdout",
     "output_type": "stream",
     "text": [
      "4\n",
      "UP 5\n",
      "DOWN 3\n",
      "LEFT 3\n",
      "RIGHT 2\n",
      "2\n"
     ]
    }
   ],
   "source": [
    "# creating origin for original position\n",
    "position={\"x\":0,\"y\":0}\n",
    "#taking number of direction\n",
    "n=int(input())\n",
    "#taking direction and step\n",
    "for i in range(n):\n",
    "   step=input().split(\" \")        \n",
    "\n",
    "   if step[0].lower() == \"up\":   #extracting direction and steps\n",
    "        position[\"y\"] += int(step[1])  #adding and subtraction values accordingly\n",
    "   elif step[0].lower() == \"down\":\n",
    "        position[\"y\"] -= int(step[1])\n",
    "   elif step[0].lower() == \"right\":\n",
    "        position[\"x\"] += int(step[1])\n",
    "   else:\n",
    "        position[\"x\"] -= int(step[1])\n",
    "# step to reach current postion   \n",
    "#using round function to calculate nearest integer value\n",
    "print(int(round((position[\"x\"]**2 + position[\"y\"]**2)**0.5)))    #using formula to calculate distance from origin"
   ]
  },
  {
   "cell_type": "code",
   "execution_count": null,
   "metadata": {},
   "outputs": [],
   "source": []
  }
 ],
 "metadata": {
  "kernelspec": {
   "display_name": "Python 3",
   "language": "python",
   "name": "python3"
  },
  "language_info": {
   "codemirror_mode": {
    "name": "ipython",
    "version": 3
   },
   "file_extension": ".py",
   "mimetype": "text/x-python",
   "name": "python",
   "nbconvert_exporter": "python",
   "pygments_lexer": "ipython3",
   "version": "3.8.3"
  }
 },
 "nbformat": 4,
 "nbformat_minor": 4
}
