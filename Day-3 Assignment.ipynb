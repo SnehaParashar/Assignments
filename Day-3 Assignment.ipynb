{
 "cells": [
  {
   "cell_type": "raw",
   "metadata": {},
   "source": [
    "Questions 1:\n",
    "Create a numpy array starting from 2 till 50 with a stepsize of 3."
   ]
  },
  {
   "cell_type": "code",
   "execution_count": 1,
   "metadata": {},
   "outputs": [
    {
     "name": "stdout",
     "output_type": "stream",
     "text": [
      "[ 2  5  8 11 14 17 20 23 26 29 32 35 38 41 44 47 50]\n"
     ]
    }
   ],
   "source": [
    "import numpy as np\n",
    "arr = np.arange(2,51,3)\n",
    "print(arr)"
   ]
  },
  {
   "cell_type": "raw",
   "metadata": {},
   "source": [
    "Questions 2:\n",
    "Accept two lists of 5 elements each from the user.\n",
    "Convert them to numpy arrays. Concatenate these arrays and print it. Also sort these arrays and print it"
   ]
  },
  {
   "cell_type": "code",
   "execution_count": 4,
   "metadata": {},
   "outputs": [
    {
     "name": "stdout",
     "output_type": "stream",
     "text": [
      "1st List\n",
      "2\n",
      "4\n",
      "6\n",
      "1\n",
      "8\n",
      "2nd List\n",
      "12\n",
      "22\n",
      "34\n",
      "65\n",
      "55\n",
      "Concatenation of arrays: [ 2  4  6  1  8 12 22 34 65 55]\n",
      "Sorted array1: [1 2 4 6 8]\n",
      "Sorted array2: [12 22 34 55 65]\n",
      "Sorted concatenated array: [ 1  2  4  6  8 12 22 34 55 65]\n"
     ]
    }
   ],
   "source": [
    "import numpy as np\n",
    "list1=[]\n",
    "list2=[]\n",
    "\n",
    "#taking values for list1\n",
    "print(\"1st List\")\n",
    "for i in range(5):\n",
    "    x= int(input())\n",
    "    list1.append(x)\n",
    "\n",
    "#taking values for list2\n",
    "\n",
    "print(\"2nd List\")\n",
    "for i in range(5):\n",
    "    y=int(input())\n",
    "    list2.append(y)\n",
    "    \n",
    "#conversion list to array\n",
    "\n",
    "arr1 = np.array(list1)\n",
    "arr2 = np.array(list2)\n",
    "\n",
    "#concatenation of aaray1 and array2\n",
    "\n",
    "array_concat = np.concatenate((arr1,arr2))\n",
    "print('Concatenation of arrays:',array_concat)\n",
    "\n",
    "# sorting arrays\n",
    "\n",
    "print(\"Sorted array1:\",np.sort(arr1))\n",
    "print(\"Sorted array2:\",np.sort(arr2))\n",
    "print(\"Sorted concatenated array:\",np.sort(array_concat))"
   ]
  },
  {
   "cell_type": "markdown",
   "metadata": {},
   "source": [
    "Questions 3:\n",
    "Write a code snippet to find the dimensions of a ndarray and its size."
   ]
  },
  {
   "cell_type": "code",
   "execution_count": 1,
   "metadata": {},
   "outputs": [
    {
     "name": "stdout",
     "output_type": "stream",
     "text": [
      "Array =\n",
      " [[1 2 3]\n",
      " [4 5 6]\n",
      " [7 8 9]]\n",
      "Dimension of array: 2 D\n",
      "size of (3, 3) array: 9\n"
     ]
    }
   ],
   "source": [
    "import numpy as np\n",
    "\n",
    "#creating an array with random values\n",
    "arr = np.array([ [1,2,3] , [4,5,6] , [7,8,9] ])\n",
    "print(\"Array =\\n\",arr)\n",
    "\n",
    "print(\"Dimension of array:\",arr.ndim,\"D\")\n",
    "print(\"size of\",arr.shape,\"array:\", arr.size)"
   ]
  },
  {
   "cell_type": "raw",
   "metadata": {},
   "source": [
    "Questions 4:\n",
    "How to convert a 1D array into a 2D array? Demonstrate with the help of a code snippet\n",
    "Hint: np.newaxis, np.expand_dims"
   ]
  },
  {
   "cell_type": "code",
   "execution_count": 9,
   "metadata": {},
   "outputs": [
    {
     "name": "stdout",
     "output_type": "stream",
     "text": [
      "[5 4 5]\n",
      "Shape of 1D Array: (3,)\n",
      "Shape of 2d Array in row major : (1, 3)\n",
      "Shape of 2D Array in column major : (3, 1)\n"
     ]
    }
   ],
   "source": [
    "import numpy as np\n",
    "\n",
    "#creating 1D array\n",
    "arr=np.array([5,4,5])\n",
    "print(arr)\n",
    "print('Shape of 1D Array:',arr.shape)\n",
    "\n",
    "#converting 1D Array to 2D Array\n",
    "\n",
    "#row wise\n",
    "arr_row = arr[np.newaxis, :]\n",
    "print(\"Shape of 2d Array in row major :\",arr_row.shape)\n",
    "\n",
    "#column wise\n",
    "arr_col = arr[:,np.newaxis]\n",
    "print(\"Shape of 2D Array in column major :\",arr_col.shape)\n"
   ]
  },
  {
   "cell_type": "raw",
   "metadata": {},
   "source": [
    "Questions 5:\n",
    "Consider two square numpy arrays. Stack them vertically and horizontally.\n",
    "Hint: Use vstack(), hstack()"
   ]
  },
  {
   "cell_type": "code",
   "execution_count": 10,
   "metadata": {},
   "outputs": [
    {
     "name": "stdout",
     "output_type": "stream",
     "text": [
      "Horizontally Stacked arrays : [  4  16  36  64 100   1   9  25  49  81]\n",
      "Vertically Stacked arrays : [[  4  16  36  64 100]\n",
      " [  1   9  25  49  81]]\n"
     ]
    }
   ],
   "source": [
    "import numpy as np\n",
    "\n",
    "#creating two square numpy arrays\n",
    "arr1 = np.square([2,4,6,8,10])\n",
    "arr2 = np.square([1,3,5,7,9])\n",
    "\n",
    "#Stacking arrays horizontally\n",
    "print(\"Horizontally Stacked arrays :\",np.hstack((arr1,arr2)))\n",
    "\n",
    "#Stacking arrays vertically\n",
    "print(\"Vertically Stacked arrays :\",np.vstack((arr1,arr2)))"
   ]
  },
  {
   "cell_type": "raw",
   "metadata": {},
   "source": [
    "Questions 6:\n",
    "How to get unique items and counts of unique items?"
   ]
  },
  {
   "cell_type": "raw",
   "metadata": {},
   "source": [
    "The unique() function is used to find the unique elements of an array.Returns the sorted unique elements of an array."
   ]
  },
  {
   "cell_type": "code",
   "execution_count": 11,
   "metadata": {},
   "outputs": [
    {
     "name": "stdout",
     "output_type": "stream",
     "text": [
      "[[1 3]\n",
      " [2 1]\n",
      " [3 1]\n",
      " [4 2]]\n"
     ]
    }
   ],
   "source": [
    "import numpy as np\n",
    "arr = np.array([1, 1, 2, 3, 4, 4, 1])\n",
    "\n",
    "#getting unique items and its counts\n",
    "unique, counts = np.unique(arr, return_counts=True)\n",
    "\n",
    "array = np.asarray((unique, counts)).T\n",
    "print(array)"
   ]
  },
  {
   "cell_type": "code",
   "execution_count": null,
   "metadata": {},
   "outputs": [],
   "source": []
  }
 ],
 "metadata": {
  "kernelspec": {
   "display_name": "Python 3",
   "language": "python",
   "name": "python3"
  },
  "language_info": {
   "codemirror_mode": {
    "name": "ipython",
    "version": 3
   },
   "file_extension": ".py",
   "mimetype": "text/x-python",
   "name": "python",
   "nbconvert_exporter": "python",
   "pygments_lexer": "ipython3",
   "version": "3.8.3"
  }
 },
 "nbformat": 4,
 "nbformat_minor": 4
}
